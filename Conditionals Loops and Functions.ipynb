{
 "cells": [
  {
   "cell_type": "code",
   "execution_count": 79,
   "metadata": {},
   "outputs": [
    {
     "name": "stdout",
     "output_type": "stream",
     "text": [
      "<class 'bool'>\n"
     ]
    }
   ],
   "source": [
    "# boolean datatype\n",
    "\n",
    "a = True\n",
    "b = False\n",
    "print(type(a))"
   ]
  },
  {
   "cell_type": "code",
   "execution_count": 80,
   "metadata": {},
   "outputs": [
    {
     "name": "stdout",
     "output_type": "stream",
     "text": [
      "False\n",
      "False\n",
      "True\n",
      "True\n",
      "False\n",
      "True\n"
     ]
    }
   ],
   "source": [
    "# Relational operators\n",
    "\n",
    "x =10\n",
    "y = 20\n",
    "print(x > y)\n",
    "print(x >= y)\n",
    "print(x < y)\n",
    "print( x <= y)\n",
    "print(x == y)\n",
    "print(x != y)"
   ]
  },
  {
   "cell_type": "code",
   "execution_count": 81,
   "metadata": {},
   "outputs": [
    {
     "name": "stdout",
     "output_type": "stream",
     "text": [
      "True\n",
      "True\n",
      "False\n"
     ]
    }
   ],
   "source": [
    "# Logical operators\n",
    "\n",
    "x = 10\n",
    "y = 20\n",
    "z = 30\n",
    "print(x < y and x < z)\n",
    "print(x < y or x > z)\n",
    "print(x < y and x > z)"
   ]
  },
  {
   "cell_type": "code",
   "execution_count": 82,
   "metadata": {},
   "outputs": [
    {
     "name": "stdout",
     "output_type": "stream",
     "text": [
      "40\n",
      "50\n"
     ]
    }
   ],
   "source": [
    "# if else\n",
    "\n",
    "x = 40\n",
    "y = 40\n",
    "z = 35\n",
    "\n",
    "if x > y:\n",
    "    print(x)\n",
    "else:\n",
    "    print(y)\n",
    "print(y + 10)"
   ]
  },
  {
   "cell_type": "code",
   "execution_count": 83,
   "metadata": {},
   "outputs": [
    {
     "name": "stdout",
     "output_type": "stream",
     "text": [
      "40\n"
     ]
    }
   ],
   "source": [
    "if x >= y and x >= z:\n",
    "    print(x)\n",
    "elif y >= z and y >= x:\n",
    "    print(y)\n",
    "else:\n",
    "    print(z)"
   ]
  },
  {
   "cell_type": "code",
   "execution_count": 84,
   "metadata": {},
   "outputs": [
    {
     "name": "stdout",
     "output_type": "stream",
     "text": [
      "10\n",
      "1 2 3 4 5 6 7 8 9 10 \n",
      "Done.\n"
     ]
    }
   ],
   "source": [
    "# while loop\n",
    "\n",
    "n = int(input())\n",
    "i = 1\n",
    "while i <= n:\n",
    "    print(i, end=\" \")\n",
    "    i += 1\n",
    "print()\n",
    "print(\"Done.\")"
   ]
  },
  {
   "cell_type": "code",
   "execution_count": 85,
   "metadata": {},
   "outputs": [
    {
     "name": "stdout",
     "output_type": "stream",
     "text": [
      "10\n",
      "1 2 3 4 5 6 7 8 9 10 \n",
      "0 1 2 3 4 5 6 7 8 9 \n",
      "4 6 8 "
     ]
    }
   ],
   "source": [
    "# for loop and range\n",
    "\n",
    "n = int(input())\n",
    "for i in range(1, n + 1):\n",
    "    print(i, end=\" \")\n",
    "print()\n",
    "\n",
    "for i in range(n):\n",
    "    print(i, end=\" \")\n",
    "print()\n",
    "\n",
    "for i in range(4, 10, 2):\n",
    "    print(i, end=\" \")"
   ]
  },
  {
   "cell_type": "code",
   "execution_count": 86,
   "metadata": {},
   "outputs": [
    {
     "name": "stdout",
     "output_type": "stream",
     "text": [
      "10\n",
      "Not prime.\n"
     ]
    }
   ],
   "source": [
    "# prime number\n",
    "\n",
    "n = int(input())\n",
    "prime = True\n",
    "if n < 2:\n",
    "    print(\"Not prime.\")\n",
    "elif n == 2:\n",
    "    print(\"Prime.\")\n",
    "else:\n",
    "    for i in range(2, n):\n",
    "        if n % i == 0:\n",
    "            prime = False\n",
    "            break\n",
    "    if prime:\n",
    "        print(\"Prime.\")\n",
    "    else:\n",
    "        print(\"Not prime.\")\n",
    "    "
   ]
  },
  {
   "cell_type": "code",
   "execution_count": 87,
   "metadata": {},
   "outputs": [
    {
     "name": "stdout",
     "output_type": "stream",
     "text": [
      "a\n",
      "b\n",
      "c\n",
      "d\n",
      "1\n",
      "2\n",
      "3\n"
     ]
    }
   ],
   "source": [
    "# Fast iteration\n",
    "\n",
    "s = \"abcd\"\n",
    "for c in s:\n",
    "    print(c)\n",
    "    \n",
    "a = (1, 2, 3)\n",
    "for b in a:\n",
    "    print(b)"
   ]
  },
  {
   "cell_type": "code",
   "execution_count": 88,
   "metadata": {},
   "outputs": [
    {
     "name": "stdout",
     "output_type": "stream",
     "text": [
      "30\n"
     ]
    }
   ],
   "source": [
    "# Functions\n",
    "\n",
    "def sum(a, b):\n",
    "    z = a + b\n",
    "    return z\n",
    "\n",
    "\n",
    "x = 10\n",
    "y = 20\n",
    "a = sum(x, y)\n",
    "print(a)"
   ]
  },
  {
   "cell_type": "code",
   "execution_count": 89,
   "metadata": {},
   "outputs": [
    {
     "name": "stdout",
     "output_type": "stream",
     "text": [
      "10000\n",
      "100\n",
      "6\n",
      "5\n",
      "13\n",
      "15\n",
      "24\n"
     ]
    }
   ],
   "source": [
    "# Default arguments to a function\n",
    "\n",
    "def power(x, y=2):\n",
    "    return x ** y\n",
    "\n",
    "s = 10\n",
    "e = 4\n",
    "print(power(s, e))\n",
    "print(power(s))\n",
    "\n",
    "\n",
    "def sum(a=12, b=1, c=2):\n",
    "    return a + b + c\n",
    "\n",
    "\n",
    "print(sum(1, 2, 3))\n",
    "print(sum(1, 2))\n",
    "print(sum(10))\n",
    "print(sum())\n",
    "print(sum(b=10))"
   ]
  },
  {
   "cell_type": "code",
   "execution_count": 90,
   "metadata": {},
   "outputs": [
    {
     "name": "stdout",
     "output_type": "stream",
     "text": [
      "<class 'tuple'>\n",
      "(2, 3, 45, 6, 6)\n",
      "84\n",
      "<class 'tuple'>\n",
      "(13, 14)\n",
      "49\n",
      "<class 'tuple'>\n",
      "()\n",
      "22\n"
     ]
    }
   ],
   "source": [
    "# Variable number of inputs to a function\n",
    "\n",
    "\n",
    "def sum_variables(a, b, *more):\n",
    "    print(type(more))\n",
    "    print(more)\n",
    "    ans = a + b\n",
    "    for i in more:\n",
    "        ans += i\n",
    "    return ans\n",
    "\n",
    "\n",
    "print(sum_variables(10, 12, 2, 3, 45, 6, 6))\n",
    "print(sum_variables(10, 12, 13, 14))\n",
    "print(sum_variables(10, 12))"
   ]
  },
  {
   "cell_type": "code",
   "execution_count": 91,
   "metadata": {},
   "outputs": [
    {
     "name": "stdout",
     "output_type": "stream",
     "text": [
      "(22, -2, 120, 0)\n",
      "4\n",
      "0\n",
      "4\n",
      "1\n",
      "(12, -6, 27, 0)\n",
      "12\n",
      "-6\n",
      "27\n",
      "0\n"
     ]
    }
   ],
   "source": [
    "# More than one return value\n",
    "\n",
    "def basic_arithmetic(a, b):\n",
    "    return a + b, a - b, a * b, a // b\n",
    "\n",
    "\n",
    "print(basic_arithmetic(10, 12))\n",
    "sum, diff, mult, div = basic_arithmetic(2, 2)\n",
    "print(sum)\n",
    "print(diff)\n",
    "print(mult)\n",
    "print(div)\n",
    "a = basic_arithmetic(3, 9)\n",
    "print(a)\n",
    "print(a[0])\n",
    "print(a[1])\n",
    "print(a[2])\n",
    "print(a[3])"
   ]
  }
 ],
 "metadata": {
  "kernelspec": {
   "display_name": "Python 3",
   "language": "python",
   "name": "python3"
  },
  "language_info": {
   "codemirror_mode": {
    "name": "ipython",
    "version": 3
   },
   "file_extension": ".py",
   "mimetype": "text/x-python",
   "name": "python",
   "nbconvert_exporter": "python",
   "pygments_lexer": "ipython3",
   "version": "3.6.4"
  }
 },
 "nbformat": 4,
 "nbformat_minor": 2
}
