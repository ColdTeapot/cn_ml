{
 "cells": [
  {
   "cell_type": "markdown",
   "metadata": {},
   "source": [
    "In this session what I'll be doing is load some dummy data, and run the linear regression algorithm that we get from sklearn, and once we do that I want to look at the line that's created. And compare it along with the training data that we gave, how good or bad it fits the data, and then let's see how good or bad it predicts on the testing data as well."
   ]
  },
  {
   "cell_type": "code",
   "execution_count": 13,
   "metadata": {},
   "outputs": [],
   "source": [
    "# Load data\n",
    "# I have already added the file data.csv in same folder as my notebook\n",
    "import numpy as np\n",
    "\n",
    "data = np.loadtxt('data.csv', delimiter=\",\")"
   ]
  },
  {
   "cell_type": "code",
   "execution_count": 14,
   "metadata": {},
   "outputs": [
    {
     "data": {
      "text/plain": [
       "(100, 2)"
      ]
     },
     "execution_count": 14,
     "metadata": {},
     "output_type": "execute_result"
    }
   ],
   "source": [
    "data.shape"
   ]
  },
  {
   "cell_type": "markdown",
   "metadata": {},
   "source": [
    "By looking at the results of shape of the data we find that there are 100 rows and 2 columns -  first column is x and the second column is y. So I'm taking only one dimensional input and the reason for that is I just want to make sure that we can plot it.\n",
    "\n",
    "![](images/analysis1.png)"
   ]
  },
  {
   "cell_type": "code",
   "execution_count": 15,
   "metadata": {},
   "outputs": [],
   "source": [
    "# Split the data to get x and y\n",
    "x = data[:, 0]\n",
    "y = data[:, 1]"
   ]
  },
  {
   "cell_type": "code",
   "execution_count": 16,
   "metadata": {},
   "outputs": [
    {
     "data": {
      "text/plain": [
       "(100,)"
      ]
     },
     "execution_count": 16,
     "metadata": {},
     "output_type": "execute_result"
    }
   ],
   "source": [
    "x.shape"
   ]
  },
  {
   "cell_type": "markdown",
   "metadata": {},
   "source": [
    "![](images/analysis2.png)"
   ]
  },
  {
   "cell_type": "markdown",
   "metadata": {},
   "source": [
    "When we run this it's not going to work, its going to give us an error. \n",
    "\n",
    "![](images/analysis3.png)\n",
    "\n",
    "The error it gives us is saying that it wanted a 2D array input but got a 1D array instead. That's true because we gave x which was a 1D array. But it's saying that it wants x to be at least a 2D array. Basically, if you have anything with more than one feature (in most of the cases you will have more than one feature), this is how it wants the data to be.\n",
    "\n",
    "![](images/analysis4.png)"
   ]
  },
  {
   "cell_type": "markdown",
   "metadata": {},
   "source": [
    "One option that we have is that we can convert this 1D array into a 2D array like as show in the image below.\n",
    "\n",
    "![](images/analysis5.png)\n",
    "\n",
    "So it looks like you have these rows which have one column."
   ]
  },
  {
   "cell_type": "markdown",
   "metadata": {},
   "source": [
    "So there is a function called reshape, so you can reshape your data into some other shape. It's actually giving you a solution in the error stack trace.\n",
    "\n",
    "![](images/analysis6.png)\n",
    "\n",
    "It's saying that if your data has a single feature which is the case with us you can use reshape function. Function reshape(-1, 1) means that it needs 1 column, it will calculate the number of rows by itself."
   ]
  },
  {
   "cell_type": "code",
   "execution_count": 17,
   "metadata": {},
   "outputs": [],
   "source": [
    "x = data[:, 0].reshape(-1, 1)\n",
    "y = data[:, 1]"
   ]
  },
  {
   "cell_type": "code",
   "execution_count": 18,
   "metadata": {},
   "outputs": [
    {
     "data": {
      "text/plain": [
       "(100, 1)"
      ]
     },
     "execution_count": 18,
     "metadata": {},
     "output_type": "execute_result"
    }
   ],
   "source": [
    "x.shape"
   ]
  },
  {
   "cell_type": "code",
   "execution_count": 19,
   "metadata": {},
   "outputs": [
    {
     "data": {
      "text/plain": [
       "LinearRegression(copy_X=True, fit_intercept=True, n_jobs=1, normalize=False)"
      ]
     },
     "execution_count": 19,
     "metadata": {},
     "output_type": "execute_result"
    }
   ],
   "source": [
    "# We have x and y, so let's split into training and testing\n",
    "from sklearn import model_selection\n",
    "X_train, X_test, Y_train, Y_test = model_selection.train_test_split(x, y)\n",
    "\n",
    "# Lets create an object of algorithm that is linear regression\n",
    "from sklearn.linear_model import LinearRegression\n",
    "alg1 = LinearRegression()\n",
    "\n",
    "# Train the algorithm using training data by calling the method fit\n",
    "alg1.fit(X_train, Y_train)"
   ]
  },
  {
   "cell_type": "markdown",
   "metadata": {},
   "source": [
    "This time we were able to fit it. So now that you have fitted what should have happened? Linear regression should have used this data to figure out this line y = mx + c.\n",
    "\n",
    "![](images/analysis7.png)\n",
    "\n",
    "To look at this m and c there is actually a way."
   ]
  },
  {
   "cell_type": "code",
   "execution_count": 20,
   "metadata": {},
   "outputs": [
    {
     "data": {
      "text/plain": [
       "array([1.25142009])"
      ]
     },
     "execution_count": 20,
     "metadata": {},
     "output_type": "execute_result"
    }
   ],
   "source": [
    "# Find slope m\n",
    "alg1.coef_"
   ]
  },
  {
   "cell_type": "code",
   "execution_count": 21,
   "metadata": {},
   "outputs": [
    {
     "data": {
      "text/plain": [
       "11.48957189040025"
      ]
     },
     "execution_count": 21,
     "metadata": {},
     "output_type": "execute_result"
    }
   ],
   "source": [
    "# Find intercept c\n",
    "alg1.intercept_"
   ]
  },
  {
   "cell_type": "markdown",
   "metadata": {},
   "source": [
    "So this is what it has trained, these are the parameters that it has calculated."
   ]
  },
  {
   "cell_type": "markdown",
   "metadata": {},
   "source": [
    "Now let's plot our training data along with these parameters. So what do I want to plot? Let's first figure out that. I want to scatter all my training data points and then I want to draw the line of best fit.\n",
    "- So there are two things that I want to do. I have two different datasets, effectively datapoints that I want to draw. For the line let's just use m and c to plot it. Let's plot this line somehow and then we will scatter these points and these points will be X_train, Y_train.\n",
    "\n",
    "![](images/analysis8.png)"
   ]
  },
  {
   "cell_type": "code",
   "execution_count": 22,
   "metadata": {},
   "outputs": [
    {
     "data": {
      "image/png": "[encoded data removed]",
      "text/plain": [
       "<matplotlib.figure.Figure at 0x1168ee668>"
      ]
     },
     "metadata": {},
     "output_type": "display_data"
    }
   ],
   "source": [
    "import matplotlib.pyplot as plt\n",
    "%matplotlib inline\n",
    "\n",
    "m = alg1.coef_[0]\n",
    "c = alg1.intercept_\n",
    "\n",
    "x_line = np.arange(30, 70, 0.1)\n",
    "y_line = m * x_line + c\n",
    "plt.plot(x_line, y_line, \"r\")\n",
    "train_1d = X_train.reshape(75)\n",
    "plt.scatter(X_train, Y_train)\n",
    "plt.show()"
   ]
  },
  {
   "cell_type": "markdown",
   "metadata": {},
   "source": [
    "It seems the best fit line is correct with respect to the training data and the algorithm is doing reasonably well. Let's plot the best fit line for testing data as well."
   ]
  },
  {
   "cell_type": "code",
   "execution_count": 23,
   "metadata": {},
   "outputs": [
    {
     "data": {
      "image/png": "[encoded data removed]",
      "text/plain": [
       "<matplotlib.figure.Figure at 0x1a1f0cf668>"
      ]
     },
     "metadata": {},
     "output_type": "display_data"
    }
   ],
   "source": [
    "# Let's plot the line for testing data as well.\n",
    "m = alg1.coef_[0]\n",
    "c = alg1.intercept_\n",
    "\n",
    "x_line = np.arange(30,70,0.1)\n",
    "y_line = m * x_line + c\n",
    "plt.plot(x_line, y_line, \"r\")\n",
    "train_1d = X_test.reshape(25)\n",
    "plt.scatter(X_test, Y_test)\n",
    "plt.show()"
   ]
  },
  {
   "cell_type": "markdown",
   "metadata": {},
   "source": [
    "### Coefficient of Determination"
   ]
  },
  {
   "cell_type": "markdown",
   "metadata": {},
   "source": [
    "We used the 75 data points (training data) to learn this line and the idea is that the line should reasonably perform well for the rest of the data (testing data) as well because they're coming from the same data source."
   ]
  },
  {
   "cell_type": "markdown",
   "metadata": {},
   "source": [
    "So far to see how good or bad the algorithm is performing we were just drawing a line and see how far the actual data points are from the line. That's actually not the best way to try and find how the algorithm is performing. The biggest problem with this is that let's say we have a data set which has n features. If you have n features it will be almost impossible for us to plot these n features against the output. So, we can look at 2-dimensional graphs and understand what exactly is going on, we can try and understand 3D graphs well, but anything more than that, it will not be possible for us. So we need an objective way of finding out how good or bad our algorithm is performing. We need a way to compare y_pred against the actual output and objectively come to a score. So getting to that score is very very important for us to compare different algorithms and also to see for generic n feature dataset how our algorithm is performing. So we need a way to find out the score to find out how good or bad our predictions are."
   ]
  },
  {
   "cell_type": "markdown",
   "metadata": {},
   "source": [
    "Let's say the actual and predicted outcomes are as given in the image below. So the way we are going to score our algorithm is using Coefficient of Determination.\n",
    "\n",
    "![](images/analysis9.png)\n",
    "![](images/analysis10.png)\n",
    "![](images/analysis11.png)\n",
    "\n",
    "u signifies the error in your predictions and v signifies if your predictions were effectively the mean."
   ]
  },
  {
   "cell_type": "markdown",
   "metadata": {},
   "source": [
    "So the basic idea here is that we want to score to be between 0 and 1, where higher value is considered better i.e. higher the score better it is. In scikit learn we have a function score."
   ]
  },
  {
   "cell_type": "markdown",
   "metadata": {},
   "source": [
    "Let's see the score on the test data and training data."
   ]
  },
  {
   "cell_type": "code",
   "execution_count": 24,
   "metadata": {},
   "outputs": [
    {
     "data": {
      "text/plain": [
       "(0.7510224774487138, 0.5301327722544821)"
      ]
     },
     "execution_count": 24,
     "metadata": {},
     "output_type": "execute_result"
    }
   ],
   "source": [
    "score_test = alg1.score(X_test, Y_test)\n",
    "score_train = alg1.score(X_train, Y_train)\n",
    "score_test, score_train"
   ]
  },
  {
   "cell_type": "markdown",
   "metadata": {},
   "source": [
    "So it seems like we're doing pretty decent on both of them, it's not very good but it's okay. How do you say whether score is good or not? It is dependent on the data that you have. Some data will be happy with a score of .7 or .6, in other case we might not be happy with a score of .9 as well. It just depends on the data. But apparently in this case we are getting a high score for testing data as compared to training data. But we got the best line with respect to the training data and it seems like the testing data also fits it pretty well. So that's the scores we are getting which have been calculated using the coefficient of determination. Another thing to remember is that train_test_split method is doing a random split, so if you run the whole code again you might get very different scores. It's basically going to be the case that the second time you run the code you will get different data points in your testing data compared to what you had in the first run, so you might get completely different m and c values. And you might get completely different scores as well, because your data points in testing and training data might change as well."
   ]
  },
  {
   "cell_type": "markdown",
   "metadata": {},
   "source": [
    "### Cost Function"
   ]
  },
  {
   "attachments": {},
   "cell_type": "markdown",
   "metadata": {},
   "source": [
    "Let's talk about the mathematical model within linear regression and how it is finding the best fit line. so we have already talked about how the line y = mx + c fits our data in the best possible way. But when we are say the best possible way, there has to be some objective way of defining what is the best possible way. To do that, we basically get to an error function. Given a line, we want to define how much is the error caused by this line. For example, if we take line 2 instead of line 1, we would like to see that the error is much more compared to error with line 1 (as shown in figure below).\n",
    "\n",
    "![](images/error1.png)"
   ]
  },
  {
   "attachments": {},
   "cell_type": "markdown",
   "metadata": {},
   "source": [
    "So if we have an error function, we can determine a line for which the error function is minimum. So how do we define this error function? There is a very straightforward way of defining this error function. For the sake of simplicity let's consider a single point Xi and Yi coordinates. Now Xi can be n-dimensional, so a line will be as shown in the figure below.\n",
    "\n",
    "![](images/n_dimensional_line.png)"
   ]
  },
  {
   "attachments": {},
   "cell_type": "markdown",
   "metadata": {},
   "source": [
    "So, the error for the particular point will be:\n",
    "\n",
    "![](images/error2.png)\n",
    "\n",
    "The total error will be summation of all i's.\n",
    "\n",
    "![](images/total_error.png)\n",
    "\n",
    "There is a problem with this. Let's look at an example. In the figure below we have 4 points, 2 above the line and 2 below. So the error for the points above the line are positive and the error below points below the line are negative. Hence the positive and the negative errors negate each other. The net error will be less than the individual error. That sounds like a bad idea.\n",
    "\n",
    "![](images/error3.png)\n",
    "\n",
    "For now, we will talk in terms of the line y = mx + c, but we can well imagine the same for n-dimensional. So the error is as given below:\n",
    "\n",
    "![](images/error4.png)\n",
    "\n",
    "So the first obvious change will be to put a modulus which means we will only take the value of the error and not the sign.\n",
    "\n",
    "![](images/error5.png)\n",
    "\n",
    "Now another point to consider is that we want to penalise higher error value much more as compared to smaller one, so that there is a significant difference between making big errors and small errors, which makes it easy to differentiate and select the best fit line. And hence the error is taken by squaring the individual errors.\n",
    "\n",
    "![](images/error6.png)\n",
    "\n",
    "For n-dimensional is going to look something like:\n",
    "\n",
    "![](images/error7.png)"
   ]
  },
  {
   "attachments": {},
   "cell_type": "markdown",
   "metadata": {},
   "source": [
    "We're going to do the complete math, that what will be the best values of m and c, but we're going to do it for one-dimensional only. So, our cost function is:\n",
    "\n",
    "![](images/cost1.png)\n",
    "\n",
    "We are already given the Yi and Xi's, i.e.  we are given the training data,  so we are to find the values of m and c, so that this is the cost function corresponding to the line y = mx + c. In other words, we have to find the line y = mx + c for which the cost function is minimum.\n",
    "\n",
    "![](images/cost2.png)"
   ]
  },
  {
   "attachments": {},
   "cell_type": "markdown",
   "metadata": {},
   "source": [
    "How we do this is, we take a partial derivative with respect to m and put it to zero,  and we take a partial derivative with respect to c and put it to zero.\n",
    "\n",
    "![](images/cost3.png)\n",
    "\n",
    "Doing this we will get two equations and two variables m and c and we can solve them to get to our answer. Let's calculate the derivative with respect to m.\n",
    "\n",
    "![](images/cost4.png)\n",
    "\n",
    "![](images/cost5.png)\n",
    "\n",
    "![](images/cost6.png)\n",
    "\n",
    "![](images/cost7.png)\n",
    "\n",
    "Divide all of this by N, which effectively means that all of these are mean values.\n",
    "\n",
    "![](images/cost8.png)\n",
    "\n",
    "![](images/cost9.png)\n",
    "\n",
    "Now we have one equation in terms of m and c. Let's take derivate with respect to c.\n",
    "\n",
    "![](images/cost10.png)\n",
    "\n",
    "![](images/cost11.png)\n",
    "\n",
    "![](images/cost12.png)\n",
    "\n",
    "c is independent of i and hence amounts to nc.\n",
    "\n",
    "![](images/cost13.png)\n",
    "\n",
    "Dividing by n.\n",
    "\n",
    "![](images/cost14.png)\n",
    "\n",
    "Now, we have both our equations. Now, it's easy to get values of m and c by solving both the equations.\n",
    "\n",
    "![](images/cost15.png)\n",
    "\n",
    "Putting the value of c in the first equation.\n",
    "\n",
    "![](images/cost16.png)\n",
    "\n",
    "![](images/cost17.png)\n",
    "\n",
    "We can put the value of m calculated as above into the below equation to find value of c:\n",
    "\n",
    "![](images/cost18.png)"
   ]
  },
  {
   "cell_type": "markdown",
   "metadata": {},
   "source": [
    "These values of m and c will give us the best fit line i.e. the line for which our cost function is minimized."
   ]
  }
 ],
 "metadata": {
  "kernelspec": {
   "display_name": "Python 3",
   "language": "python",
   "name": "python3"
  },
  "language_info": {
   "codemirror_mode": {
    "name": "ipython",
    "version": 3
   },
   "file_extension": ".py",
   "mimetype": "text/x-python",
   "name": "python",
   "nbconvert_exporter": "python",
   "pygments_lexer": "ipython3",
   "version": "3.6.4"
  }
 },
 "nbformat": 4,
 "nbformat_minor": 2
}
