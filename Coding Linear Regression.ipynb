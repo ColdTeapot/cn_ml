{
 "cells": [
  {
   "cell_type": "markdown",
   "metadata": {},
   "source": [
    "### Implement Linear Regression by writing code for fit, predict and score functions"
   ]
  },
  {
   "cell_type": "code",
   "execution_count": 271,
   "metadata": {},
   "outputs": [],
   "source": [
    "import numpy as np"
   ]
  },
  {
   "cell_type": "code",
   "execution_count": 272,
   "metadata": {},
   "outputs": [],
   "source": [
    "data = np.loadtxt(\"data.csv\", delimiter=\",\")"
   ]
  },
  {
   "cell_type": "code",
   "execution_count": 273,
   "metadata": {},
   "outputs": [],
   "source": [
    "x = data[:, 0]\n",
    "y = data[:, 1]"
   ]
  },
  {
   "cell_type": "code",
   "execution_count": 274,
   "metadata": {},
   "outputs": [
    {
     "data": {
      "text/plain": [
       "(100,)"
      ]
     },
     "execution_count": 274,
     "metadata": {},
     "output_type": "execute_result"
    }
   ],
   "source": [
    "x.shape"
   ]
  },
  {
   "cell_type": "code",
   "execution_count": 275,
   "metadata": {},
   "outputs": [
    {
     "data": {
      "text/plain": [
       "(70,)"
      ]
     },
     "execution_count": 275,
     "metadata": {},
     "output_type": "execute_result"
    }
   ],
   "source": [
    "from sklearn import model_selection\n",
    "X_train, X_test, Y_train, Y_test = model_selection.train_test_split(x, y, test_size=0.30)\n",
    "X_train.shape"
   ]
  },
  {
   "attachments": {},
   "cell_type": "markdown",
   "metadata": {},
   "source": [
    "Let's have a quick look at how we calculate m and c values for a line y = mx + c, which is a best fit line with minimum cost.\n",
    "\n",
    "![](images/cost17.png)\n",
    "\n",
    "![](images/cost18.png)"
   ]
  },
  {
   "cell_type": "code",
   "execution_count": 276,
   "metadata": {},
   "outputs": [],
   "source": [
    "def fit(X_train, Y_train):\n",
    "    num = (X_train * Y_train).mean() - X_train.mean() * Y_train.mean()\n",
    "    den = (X_train**2).mean() - X_train.mean()**2\n",
    "    m = num / den\n",
    "    c = Y_train.mean() - m * X_train.mean()\n",
    "    return m, c"
   ]
  },
  {
   "cell_type": "markdown",
   "metadata": {},
   "source": [
    "Let's have a quick look at the flow of things before writing other functions.\n",
    "\n",
    "- m, c = fit(X_train, Y_train)\n",
    "- for test data\n",
    "    - Y_test_pred = predict(X_test, m, c)\n",
    "    - score(Y_test, Y_test_pred)\n",
    "- for training data\n",
    "    - Y_train_pred = predict(X_train, m, c)\n",
    "    - score(Y_train, Y_train_pred)\n",
    "- Call fit function on the training data ad get values of m and c\n",
    "- Call the predict function which will take X_test, m and c values and will predict Y for us.\n",
    "- Call the score function which will take Y_test and Y_pred as arguments and compare them to provide us with a score of how well our algorithm is doing."
   ]
  },
  {
   "cell_type": "code",
   "execution_count": 277,
   "metadata": {},
   "outputs": [],
   "source": [
    "def predict(x, m, c):\n",
    "    return m * x + c"
   ]
  },
  {
   "cell_type": "code",
   "execution_count": 278,
   "metadata": {},
   "outputs": [],
   "source": [
    "def score(y_truth, y_pred): # score is (1 - u / v)\n",
    "    u = ((y_truth - y_pred)**2).sum()\n",
    "    v = ((y_truth - y_truth.mean())**2).sum()\n",
    "    return 1 - u / v"
   ]
  },
  {
   "cell_type": "code",
   "execution_count": 279,
   "metadata": {},
   "outputs": [],
   "source": [
    "def cost(x, y, m, c):\n",
    "    return ((y - (m * x + c))**2).mean()  # instead of return sum we divide by n to take the mean"
   ]
  },
  {
   "cell_type": "code",
   "execution_count": 280,
   "metadata": {},
   "outputs": [
    {
     "name": "stdout",
     "output_type": "stream",
     "text": [
      "Test Score:  -1.5949366257242095\n",
      "Train Score:  -2.6595747317924667\n",
      "m, c:  1.2168504508202016 13.781144625806732\n",
      "Cost on training data:  116.67259128666761\n",
      "Cost on training data:  2655.7729166245445\n"
     ]
    }
   ],
   "source": [
    "m, c = fit(X_train, Y_train)\n",
    "\n",
    "# test data\n",
    "Y_test_pred = predict(Y_test, m, c)\n",
    "print(\"Test Score: \", score(Y_test, Y_test_pred))\n",
    "\n",
    "# train data\n",
    "Y_train_pred = predict(Y_train, m, c)\n",
    "print(\"Train Score: \", score(Y_train, Y_train_pred))\n",
    "print(\"m, c: \", m, c)\n",
    "print(\"Cost on training data: \", cost(X_train, Y_train, m, c))\n",
    "print(\"Cost on training data: \", cost(X_train, Y_train, m + 1, c)) # cost will increase quadratically"
   ]
  },
  {
   "cell_type": "markdown",
   "metadata": {},
   "source": [
    "Let's use the in-built linear regression. Using the same data and using the in-built linear regression check the coefficients and score values against the values for implementation of linear regression."
   ]
  },
  {
   "cell_type": "code",
   "execution_count": 281,
   "metadata": {},
   "outputs": [
    {
     "data": {
      "text/plain": [
       "LinearRegression(copy_X=True, fit_intercept=True, n_jobs=1, normalize=False)"
      ]
     },
     "execution_count": 281,
     "metadata": {},
     "output_type": "execute_result"
    }
   ],
   "source": [
    "from sklearn.linear_model import LinearRegression\n",
    "algo = LinearRegression()\n",
    "algo.fit(X_train.reshape(-1, 1), Y_train)"
   ]
  },
  {
   "cell_type": "code",
   "execution_count": 282,
   "metadata": {},
   "outputs": [],
   "source": [
    "# Find slope m\n",
    "m = algo.coef_[0]"
   ]
  },
  {
   "cell_type": "code",
   "execution_count": 283,
   "metadata": {},
   "outputs": [],
   "source": [
    "# Find intercept c\n",
    "c = algo.intercept_"
   ]
  },
  {
   "cell_type": "code",
   "execution_count": 284,
   "metadata": {},
   "outputs": [
    {
     "name": "stdout",
     "output_type": "stream",
     "text": [
      "m, c:  1.2168504508201818 13.781144625807713\n"
     ]
    }
   ],
   "source": [
    "print(\"m, c: \", m, c)"
   ]
  },
  {
   "cell_type": "code",
   "execution_count": 285,
   "metadata": {},
   "outputs": [
    {
     "name": "stdout",
     "output_type": "stream",
     "text": [
      "Train Score:  0.5264787415636045\n"
     ]
    }
   ],
   "source": [
    "print(\"Train Score: \", algo.score(X_train.reshape(-1, 1), Y_train))"
   ]
  }
 ],
 "metadata": {
  "kernelspec": {
   "display_name": "Python 3",
   "language": "python",
   "name": "python3"
  },
  "language_info": {
   "codemirror_mode": {
    "name": "ipython",
    "version": 3
   },
   "file_extension": ".py",
   "mimetype": "text/x-python",
   "name": "python",
   "nbconvert_exporter": "python",
   "pygments_lexer": "ipython3",
   "version": "3.6.4"
  }
 },
 "nbformat": 4,
 "nbformat_minor": 2
}
