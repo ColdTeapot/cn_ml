{
 "cells": [
  {
   "attachments": {},
   "cell_type": "markdown",
   "metadata": {},
   "source": [
    "### What is Machine Learning?\n",
    "- Machine Learning is basically a methodology in which we want the machines to learn, and for machines to learn we are ready to provide them previous data i.e. we are providing the machines past experiences so that they can predict upcoming events. That's exactly the way humans learn as well. For example, we learn how to cross a road by continously looking at how people are crossing the road. Intially, we weren't supposed to cross the road alone, but eventually we have learnt how to do it by looking at a lot of examples. And basically, that's exactly how we learn a lot of different things as well. So that's basically what machine learning is. So the idea is if machine has looked at enough past data, it should be able to pretty acurately predict what's going to happen in future. \n",
    "- Now let's look at the difference between often talked about terms AI (Artificial Intelligence) and ML (Machine Learning). AI, actually is a part of computer science which basically means that let's somehow make machines intelligent, so that they can take smart decisions. Now, a machine a can take smart decisions basically by two ways.\n",
    "    - Either as a programmer, I can write down the rules using which the machine can take a decision.\n",
    "    - Or we write algorithms in a way that a machine by looking at a lot of past data can automatically learn what to do in future.\n",
    "    - So, in one case I'm specifically saying this is how you should take decisions, in the second case I'm saying that I'm not going to tell you what exactly you need to do, look at all this data, and figure out what you think should be done.\n",
    "    - All of this combined is AI, machines being smart, machines being able to take good decisions. So, AI is the big picture and ML is a big chunk of that picture. So, ML is a subset of AI, and day by day it's increasing to be almost same as AI, in the sense that rule based intelligence is basically not giving us as good results as machine learning is. That being said, ML is a subset of AI, and the idea of ML is as a developer I should not have to exactly write - if this happens then you need to do this.\n",
    "    \n",
    "    ![](images/ML1.png)\n",
    "    "
   ]
  },
  {
   "cell_type": "markdown",
   "metadata": {},
   "source": [
    "#### What are some applications of Machine Learning?\n",
    "- Nowadays, machine learning is being used everywhere, everywhere in web for sure. Almost all major websites are using Machine Learning in some way or the other. For example, the case of what kind of content should we give to each user. If we go to a news website, most likely every user is going to see the same content. But that's not true for Twitter or Facebook platforms. They want the feed to be customized to each individual user. So that's basically machine learning. So they're trying to predict what's going to be the best content for a user, that the user will be interested in based on whatever the user has done previously.\n",
    "- Advertisements - Which ads a I more likely to click on? That's again Machine Learning.\n",
    "- Recommendations - If I'm going to resturant data provider, they want to show me resturants which they feel I'm going to like more. Like on Facebook, you might see people you may know, pages you may like. All these features are recommendation features, these are all built using Machine Learning.\n",
    "- But more and more ML, actually is getting important outside this web domain as well. For example, self driving cars, they are a perfect example of machine learning being applied.\n",
    "- Other than that, a lot of interesting applications of Machine Learning has been in use for a long time. For example, oil companies have been using the seismic data to predict oil reservoirs for a long time. That again is a machine learning problem.\n",
    "- Another very important application of machine learning is using seismic data to predict earthquakes.\n",
    "- Possibilities are immense, and we are just getting started with various kinds of Machine Learning applications. And most of these applications haven't reached their full potential yet. We are still moving very slowly towards getting to what can be a really revolutionary technology."
   ]
  },
  {
   "cell_type": "markdown",
   "metadata": {},
   "source": [
    "#### Data Mining\n",
    "One more term that people get confused with is \"Data Mining\". Data Mining just means, finding information out of a huge amount of data. One has huge amounts of data, and task is to figure out some meaningful information from this huge amount of data. Now, that could be done using Machine Learning Algorithms. That could simply, just be a Data Analytics problem. Let's say by looking at the data, I come up with a hypothesis, and I try to verify the hypothesis by running some queries on the data. That's not really Machine Learning, but that's what exactly Data Mining could be as well. So, Data Mining is something in which Machine Learning can be applied, but it's not same as Machine Learning."
   ]
  },
  {
   "cell_type": "markdown",
   "metadata": {},
   "source": [
    "Within Machine Learning, there are various types of Machine Learning. They are as mentioned below:\n",
    "- Supervised Learning\n",
    "    - Supervised Learning basically means that I have exact data, that \"these\" were the input conditions and \"this\" is what happened. So, I have the input, as well as the output, and I have clear markings that this is what I want the output to be for previous data. And what I want to do is, in future, if I get only the input part, I want to predict the output. For example, let's say I'm given data for 1000 houses - their features as input, say \"covered area in square feet\", \"location\", \"age of house\", \"number of rooms\", and I'm given the output to be the \"Sales Price\". So, these are the input features and there is ]a clear demarcation that this is the output that we are looking for. So, in future, what's going to happen is, if a new house comes to market, we will be given the input and we would be supposed to predict the output. So that basically is a problem of Supervised Learning. When the input data i.e. the past experiences that are given to you, they are clearly marked with the output that you are looking for.\n",
    "    - Another example could be that we are given a lot of data on tumors, and we are supposed to predict whether the tumor is malignant or benign. So, we are given a lot of past data on tumors such as radius, texture, perimeter, area, smoothness etc. and we know whether they are malignant and benign. And now we are given a new entry which is basically just the input features and we are supposed to predict that whether the tumor is malignant or benign. Again, that's an example of Supervised Learning problem because the input data - the past experience that you are given has a clear demarked output. So that's how we define something to be Supervised Learning.\n",
    "- Unsupervised Learning\n",
    "    - Unsupervised Learning will be something that is not clearly marked as output for us. For example, let's say we want to split all Facebook users into 10 groups on basis of how they are similar to each other. Basically, I want to make 10 clusters of people with similar characteristics. Now, I don't know how exactly these clusters can be formed. Now that's going to based on all the features, profiles and everything. So that's unsupervised problem. We don't have any clearly marked output. We have a lot of data and we want to cluster the data into different parts. Now, that's a clear cut unsupervised problem because the data that you have is not marked with any output. You are trying to find patterns in the data.\n",
    "- Reinforcement Learning\n",
    "    - In Reinforcement Learning, for positive behaviour you get incentivised, and for negative behaviour you get disincentivised. For example, if you want to make software which plays chess, you let the software take whatever step it wants to take, within the rules (moves of horse, pawn, king, queen etc. are predefined), so whether to move the horse or the pawn or the queen, that's something we leave to the software. Now, as the software is making the decisions, if it wins it gets some positive points, if it loses, it gets some negative points. And if the software keeps playing more and more games, eventually it's going to learn what moves are good for winning and what are the bad moves which would end up losing the game. Self driving cars is a huge application of Reinforcement Learning and many other places as well."
   ]
  }
 ],
 "metadata": {
  "kernelspec": {
   "display_name": "Python 3",
   "language": "python",
   "name": "python3"
  },
  "language_info": {
   "codemirror_mode": {
    "name": "ipython",
    "version": 3
   },
   "file_extension": ".py",
   "mimetype": "text/x-python",
   "name": "python",
   "nbconvert_exporter": "python",
   "pygments_lexer": "ipython3",
   "version": "3.6.4"
  }
 },
 "nbformat": 4,
 "nbformat_minor": 2
}
